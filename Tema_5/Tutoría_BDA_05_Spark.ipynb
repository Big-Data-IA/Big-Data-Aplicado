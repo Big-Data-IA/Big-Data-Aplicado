{
  "nbformat": 4,
  "nbformat_minor": 0,
  "metadata": {
    "colab": {
      "provenance": [],
      "collapsed_sections": [
        "5YyrgSxQnB06",
        "sBfZGn3YA_TK",
        "wLhpAAvwnWit",
        "-bqDjH1ppth1",
        "eYDUJwU4nrxy"
      ]
    },
    "kernelspec": {
      "name": "python3",
      "display_name": "Python 3"
    },
    "language_info": {
      "name": "python"
    }
  },
  "cells": [
    {
      "cell_type": "markdown",
      "source": [
        "[Apache Spark](https://spark.apache.org/) es un motor de procesamiento y análisis de datos distribuidos de propósito general. \n",
        "\n",
        "Spark puede utilizarse en modo autónomo o utilizando gestores de recursos externos como YARN, Kubernetes o Mesos. \n",
        "\n",
        "Spark trabaja sobre el concepto de RDDs (conjuntos de datos distribuidos resistentes) que representa los datos como una colección distribuida.\n",
        "\n",
        "El motor de Spark puede aplicar operaciones para consultar y transformar el conjunto de datos en paralelo sobre múltiples ejecutores de Spark. \n",
        "\n",
        "Los DataFrames son una extensión de los RDD que impone un esquema a la colección distribuida de datos. Los dataframes pueden definirse para consumir desde múltiples fuentes de datos, incluyendo archivos, bases de datos relacionales, bases de datos NoSQL, flujos, etc.\n",
        "\n"
      ],
      "metadata": {
        "id": "G-dTPrx6tMJW"
      }
    },
    {
      "cell_type": "markdown",
      "source": [
        "# Instalación y Monitorización\n"
      ],
      "metadata": {
        "id": "5YyrgSxQnB06"
      }
    },
    {
      "cell_type": "markdown",
      "metadata": {
        "id": "sBfZGn3YA_TK"
      },
      "source": [
        "## Instalación"
      ]
    },
    {
      "cell_type": "markdown",
      "source": [
        "En primer lugar instalamos y configuramos todas las dependencias de Spark para Python. De esta forma enlazaremos nuestro entorno con el servidor de Spark. Además configuraremos el entorno Spark con las variables que sean necestarias. \n",
        "\n",
        "**NOTA: la última versión de PySpark es la 3.3.2 [link](https://pypi.org/project/pyspark/#history)**"
      ],
      "metadata": {
        "id": "cDbDDJ9snxav"
      }
    },
    {
      "cell_type": "markdown",
      "source": [
        "1. Descargar y localizar en `/usr/local/`"
      ],
      "metadata": {
        "id": "4po8zx7un1vP"
      }
    },
    {
      "cell_type": "code",
      "metadata": {
        "id": "nqld9bk_-mF7"
      },
      "source": [
        "!wget -q https://dlcdn.apache.org/spark/spark-3.3.2/spark-3.3.2-bin-hadoop3.tgz\n",
        "!tar xf spark-3.3.2-bin-hadoop3.tgz\n",
        "!mv  spark-3.3.2-bin-hadoop3 /usr/local/"
      ],
      "execution_count": 5,
      "outputs": []
    },
    {
      "cell_type": "code",
      "source": [
        "%%bash\n",
        "wget http://ftp.ntu.edu.tw/MySQL/Downloads/Connector-J/mysql-connector-java-5.1.49.tar.gz\n",
        "tar -zxf mysql-connector-java-5.1.49.tar.gz\n",
        "cd mysql-connector-java-5.1.49\n",
        "mv mysql-connector-java-5.1.49-bin.jar /usr/local/spark-3.3.2-bin-hadoop3/jars\n"
      ],
      "metadata": {
        "id": "ktdCR1TbwG0S",
        "colab": {
          "base_uri": "https://localhost:8080/"
        },
        "outputId": "1016d6d7-8ee1-499e-f080-b83bd27bba4b"
      },
      "execution_count": 6,
      "outputs": [
        {
          "output_type": "stream",
          "name": "stderr",
          "text": [
            "--2023-03-31 09:53:02--  http://ftp.ntu.edu.tw/MySQL/Downloads/Connector-J/mysql-connector-java-5.1.49.tar.gz\n",
            "Resolving ftp.ntu.edu.tw (ftp.ntu.edu.tw)... 140.112.36.185\n",
            "Connecting to ftp.ntu.edu.tw (ftp.ntu.edu.tw)|140.112.36.185|:80... connected.\n",
            "HTTP request sent, awaiting response... 200 OK\n",
            "Length: 3362563 (3.2M) [application/octet-stream]\n",
            "Saving to: ‘mysql-connector-java-5.1.49.tar.gz.1’\n",
            "\n",
            "     0K .......... .......... .......... .......... ..........  1% 14.3M 0s\n",
            "    50K .......... .......... .......... .......... ..........  3%  405K 4s\n",
            "   100K .......... .......... .......... .......... ..........  4%  418K 5s\n",
            "   150K .......... .......... .......... .......... ..........  6% 11.3M 4s\n",
            "   200K .......... .......... .......... .......... ..........  7%  267M 3s\n",
            "   250K .......... .......... .......... .......... ..........  9%  421K 4s\n",
            "   300K .......... .......... .......... .......... .......... 10% 12.4M 3s\n",
            "   350K .......... .......... .......... .......... .......... 12%  413K 4s\n",
            "   400K .......... .......... .......... .......... .......... 13% 24.7M 3s\n",
            "   450K .......... .......... .......... .......... .......... 15%  124M 3s\n",
            "   500K .......... .......... .......... .......... .......... 16%  413K 3s\n",
            "   550K .......... .......... .......... .......... .......... 18% 25.5M 3s\n",
            "   600K .......... .......... .......... .......... .......... 19%  413K 3s\n",
            "   650K .......... .......... .......... .......... .......... 21% 28.1M 3s\n",
            "   700K .......... .......... .......... .......... .......... 22% 48.4M 3s\n",
            "   750K .......... .......... .......... .......... .......... 24%  414K 3s\n",
            "   800K .......... .......... .......... .......... .......... 25% 27.6M 2s\n",
            "   850K .......... .......... .......... .......... .......... 27%  414K 3s\n",
            "   900K .......... .......... .......... .......... .......... 28% 29.4M 2s\n",
            "   950K .......... .......... .......... .......... .......... 30% 58.3M 2s\n",
            "  1000K .......... .......... .......... .......... .......... 31%  413K 2s\n",
            "  1050K .......... .......... .......... .......... .......... 33% 27.3M 2s\n",
            "  1100K .......... .......... .......... .......... .......... 35%  419K 2s\n",
            "  1150K .......... .......... .......... .......... .......... 36% 16.0M 2s\n",
            "  1200K .......... .......... .......... .......... .......... 38% 30.3M 2s\n",
            "  1250K .......... .......... .......... .......... .......... 39%  416K 2s\n",
            "  1300K .......... .......... .......... .......... .......... 41% 14.7M 2s\n",
            "  1350K .......... .......... .......... .......... .......... 42%  424K 2s\n",
            "  1400K .......... .......... .......... .......... .......... 44% 22.8M 2s\n",
            "  1450K .......... .......... .......... .......... .......... 45% 14.3M 2s\n",
            "  1500K .......... .......... .......... .......... .......... 47%  420K 2s\n",
            "  1550K .......... .......... .......... .......... .......... 48% 27.8M 2s\n",
            "  1600K .......... .......... .......... .......... .......... 50% 19.7M 2s\n",
            "  1650K .......... .......... .......... .......... .......... 51%  418K 2s\n",
            "  1700K .......... .......... .......... .......... .......... 53% 15.1M 2s\n",
            "  1750K .......... .......... .......... .......... .......... 54%  420K 2s\n",
            "  1800K .......... .......... .......... .......... .......... 56% 36.1M 1s\n",
            "  1850K .......... .......... .......... .......... .......... 57% 13.8M 1s\n",
            "  1900K .......... .......... .......... .......... .......... 59%  421K 1s\n",
            "  1950K .......... .......... .......... .......... .......... 60% 17.0M 1s\n",
            "  2000K .......... .......... .......... .......... .......... 62%  418K 1s\n",
            "  2050K .......... .......... .......... .......... .......... 63% 36.2M 1s\n",
            "  2100K .......... .......... .......... .......... .......... 65% 15.8M 1s\n",
            "  2150K .......... .......... .......... .......... .......... 66%  419K 1s\n",
            "  2200K .......... .......... .......... .......... .......... 68% 16.6M 1s\n",
            "  2250K .......... .......... .......... .......... .......... 70%  418K 1s\n",
            "  2300K .......... .......... .......... .......... .......... 71% 36.2M 1s\n",
            "  2350K .......... .......... .......... .......... .......... 73% 16.3M 1s\n",
            "  2400K .......... .......... .......... .......... .......... 74%  420K 1s\n",
            "  2450K .......... .......... .......... .......... .......... 76% 21.1M 1s\n",
            "  2500K .......... .......... .......... .......... .......... 77%  418K 1s\n",
            "  2550K .......... .......... .......... .......... .......... 79% 24.5M 1s\n",
            "  2600K .......... .......... .......... .......... .......... 80% 15.7M 1s\n",
            "  2650K .......... .......... .......... .......... .......... 82%  421K 1s\n",
            "  2700K .......... .......... .......... .......... .......... 83% 24.8M 1s\n",
            "  2750K .......... .......... .......... .......... .......... 85% 19.0M 0s\n",
            "  2800K .......... .......... .......... .......... .......... 86%  419K 0s\n",
            "  2850K .......... .......... .......... .......... .......... 88% 17.8M 0s\n",
            "  2900K .......... .......... .......... .......... .......... 89%  419K 0s\n",
            "  2950K .......... .......... .......... .......... .......... 91% 21.9M 0s\n",
            "  3000K .......... .......... .......... .......... .......... 92% 20.7M 0s\n",
            "  3050K .......... .......... .......... .......... .......... 94%  420K 0s\n",
            "  3100K .......... .......... .......... .......... .......... 95% 15.1M 0s\n",
            "  3150K .......... .......... .......... .......... .......... 97%  420K 0s\n",
            "  3200K .......... .......... .......... .......... .......... 98% 20.7M 0s\n",
            "  3250K .......... .......... .......... ...                  100% 16.6M=3.2s\n",
            "\n",
            "2023-03-31 09:53:06 (1.00 MB/s) - ‘mysql-connector-java-5.1.49.tar.gz.1’ saved [3362563/3362563]\n",
            "\n"
          ]
        }
      ]
    },
    {
      "cell_type": "markdown",
      "source": [
        "2. Establecer las variables de entorno necesarias"
      ],
      "metadata": {
        "id": "FKovJcBAoFy1"
      }
    },
    {
      "cell_type": "code",
      "source": [
        "import os\n",
        "os.environ[\"JAVA_HOME\"]=\"/usr/lib/jvm/java-11-openjdk-amd64\"\n",
        "os.environ[\"SPARK_HOME\"] = \"/usr/local/spark-3.3.2-bin-hadoop3\"\n"
      ],
      "metadata": {
        "id": "Md8rfmP87Wlz"
      },
      "execution_count": 11,
      "outputs": []
    },
    {
      "cell_type": "code",
      "source": [
        "os.environ[\"CLASSPATH\"] = \"/usr/local/spark-3.3.2-bin-hadoop3/jars\"\n",
        "os.environ['PYSPARK_SUBMIT_ARGS'] = '--jars /usr/local/spark-3.3.2-bin-hadoop3/jars/mysql-connector-java-5.1.49-bin.jar pyspark-shell'"
      ],
      "metadata": {
        "id": "6Y_UjALuzuCe"
      },
      "execution_count": 12,
      "outputs": []
    },
    {
      "cell_type": "markdown",
      "source": [
        "3. Instalar [findspark](https://pypi.org/project/findspark/)"
      ],
      "metadata": {
        "id": "peZLB8oZoI2R"
      }
    },
    {
      "cell_type": "code",
      "source": [
        "!pip install -q findspark\n"
      ],
      "metadata": {
        "id": "PKJdUuukn6GW"
      },
      "execution_count": 13,
      "outputs": []
    },
    {
      "cell_type": "markdown",
      "source": [
        "Ejecutamos `findspark.init()` para hacer que pyspark sea importable como una biblioteca normal para ello añade pyspark al sys.path en el entorno de ejecución."
      ],
      "metadata": {
        "id": "HyTBGMZAo_RZ"
      }
    },
    {
      "cell_type": "code",
      "source": [
        "import findspark\n",
        "findspark.init()"
      ],
      "metadata": {
        "id": "aw0xbBn37f3w"
      },
      "execution_count": 14,
      "outputs": []
    },
    {
      "cell_type": "code",
      "source": [
        "findspark.add_packages('mysql:mysql-connector-java:5.1.49')"
      ],
      "metadata": {
        "id": "F2TSVJCJ5v8Q"
      },
      "execution_count": 15,
      "outputs": []
    },
    {
      "cell_type": "markdown",
      "metadata": {
        "id": "1ARyob50A8CR"
      },
      "source": [
        "4. Lanzamos una sesión Spark con la librería `pyspark`\n"
      ]
    },
    {
      "cell_type": "markdown",
      "source": [
        "Es necesario crear un contexto Spark para ejecutar la aplicación\n",
        "\n",
        "> NOTA: Un SparkContext representa la conexión al cluster de Spark, y puede utilizarse para crear RDDs y otros elementos. **Sólo puede haber un SparkContext activo**. Se debe detener (*stop()*) el SparkContext activo antes de crear uno nuevo. \n",
        "\n",
        "Si creamos el contexto sin ningún argumento al respecto  se utilizará la variable de entorno SPARK_HOME, y si no está establecida, se comprobarán otras posibles ubicaciones de instalación. \n",
        "\n",
        "Más consideraciones sobre en arranque en el siguiente [enlace](https://github.com/minrk/findspark)\n",
        "\n",
        "Más detalle sobre las opciones de configuración en el siguiente [enlace](http://spark.apache.org/docs/latest/configuration.html)"
      ],
      "metadata": {
        "id": "W_A9DVotoVUh"
      }
    },
    {
      "cell_type": "code",
      "source": [
        "import pyspark\n",
        "from pyspark.sql import *\n",
        "from pyspark.sql.functions import *\n",
        "from pyspark import SparkContext, SparkConf"
      ],
      "metadata": {
        "id": "D09Rj23C7oeE"
      },
      "execution_count": 16,
      "outputs": []
    },
    {
      "cell_type": "code",
      "metadata": {
        "colab": {
          "base_uri": "https://localhost:8080/",
          "height": 219
        },
        "id": "wHFAANWX_hHe",
        "outputId": "7101259a-a924-41a3-efbf-07c44f92b9f4"
      },
      "source": [
        "conf = SparkConf()\n",
        "conf.set(\"spark.ui.port\", \"4050\")\n",
        "conf.set(\"spark.appName\", \"SQL\")\n",
        "conf.set(\"spark.executor.instances\", \"4\")\n",
        "conf.set(\"spark.executor.cores\", 4)\n",
        "conf.set(\"spark.executor.memory\",\"10g\")\n",
        "conf.set(\"spark.driver.extraClassPath\", \"/usr/local/spark-3.3.2-bin-hadoop3.2/jars/mysql-connector-java-5.1.49-bin.jar\") \\\n",
        "\n",
        "# create the context\n",
        "sc = pyspark.SparkContext(conf=conf)\n",
        "spark = SparkSession.builder.getOrCreate()\n",
        "spark"
      ],
      "execution_count": 17,
      "outputs": [
        {
          "output_type": "execute_result",
          "data": {
            "text/plain": [
              "<pyspark.sql.session.SparkSession at 0x7fd1c6c79dc0>"
            ],
            "text/html": [
              "\n",
              "            <div>\n",
              "                <p><b>SparkSession - in-memory</b></p>\n",
              "                \n",
              "        <div>\n",
              "            <p><b>SparkContext</b></p>\n",
              "\n",
              "            <p><a href=\"http://2877bb960eb0:4050\">Spark UI</a></p>\n",
              "\n",
              "            <dl>\n",
              "              <dt>Version</dt>\n",
              "                <dd><code>v3.3.2</code></dd>\n",
              "              <dt>Master</dt>\n",
              "                <dd><code>local[*]</code></dd>\n",
              "              <dt>AppName</dt>\n",
              "                <dd><code>pyspark-shell</code></dd>\n",
              "            </dl>\n",
              "        </div>\n",
              "        \n",
              "            </div>\n",
              "        "
            ]
          },
          "metadata": {},
          "execution_count": 17
        }
      ]
    },
    {
      "cell_type": "markdown",
      "source": [
        "Se puede comprobar fácilmente la versión actual de Spark y el acceso a la interfaz web simplemente mediante la variable de la sesión (*spark*). \n",
        "\n",
        "En la interfaz de Spark se puedes supervisar el progreso del  trabajo. El enlace es directo si se trabaja en un entorno local. "
      ],
      "metadata": {
        "id": "WhGOQzSpq8TG"
      }
    },
    {
      "cell_type": "markdown",
      "metadata": {
        "id": "xTcpKV6TqaM1"
      },
      "source": [
        "También podemos consultar la configuración por defecto que se nos crea sobre todo en cuanto a particiones y paralelismo.\n",
        "\n",
        "Las siguientes propiedades indican el número por defecto en los RDDs devueltos por transformaciones como join, reduceByKey, y parallelize cuando no es establecido por el usuario. El valor $2$  representa un paralelismo \"mínimo\", que puede ayudar a detectar errores que sólo existen cuando ejecutamos en un contexto distribuido."
      ]
    },
    {
      "cell_type": "code",
      "metadata": {
        "colab": {
          "base_uri": "https://localhost:8080/"
        },
        "id": "5Aw6dDbxrQpu",
        "outputId": "fecc3be5-85a6-4a79-b762-a206665676ad"
      },
      "source": [
        "print(\"Default Min Partitions \" + str(spark.sparkContext.defaultMinPartitions))\n",
        "print(\"Default parallelism \" + str(spark.sparkContext.defaultParallelism))"
      ],
      "execution_count": 18,
      "outputs": [
        {
          "output_type": "stream",
          "name": "stdout",
          "text": [
            "Default Min Partitions 2\n",
            "Default parallelism 2\n"
          ]
        }
      ]
    },
    {
      "cell_type": "code",
      "source": [
        "#spark.stop()"
      ],
      "metadata": {
        "id": "ZKdrjpT4wh1N"
      },
      "execution_count": null,
      "outputs": []
    },
    {
      "cell_type": "markdown",
      "source": [
        "## Monitorización\n"
      ],
      "metadata": {
        "id": "wLhpAAvwnWit"
      }
    },
    {
      "cell_type": "markdown",
      "source": [
        "Como no se puede utilizar un teórico localhost sobre Google Colab entonces hay que hacer accesible el puerto desde el exterior mediante un tunel ngrok. **NGROK** es una herramienta de uso gratuito que nos permite exponer nuestro entorno local a la web, es decir, podemos \"publicar\" nuestro trabajo en local para que el resto del mundo lo pueda ver sin la necesidad de subir la aplicación a un servidor."
      ],
      "metadata": {
        "id": "VEBUhbrg9afw"
      }
    },
    {
      "cell_type": "markdown",
      "source": [
        "**Subir fichero authtoken.txt con la clave de acceso que proporciona ngrok al registrarse.**"
      ],
      "metadata": {
        "id": "6qyJXuz_8spW"
      }
    },
    {
      "cell_type": "code",
      "source": [
        "!pip install pyngrok\n",
        "!ngrok authtoken $(<authtoken.txt)\n"
      ],
      "metadata": {
        "colab": {
          "base_uri": "https://localhost:8080/"
        },
        "id": "L8gy8jdx8ebA",
        "outputId": "fd44435d-5c15-4724-c9a8-418d5a7d5a60"
      },
      "execution_count": 20,
      "outputs": [
        {
          "output_type": "stream",
          "name": "stdout",
          "text": [
            "Looking in indexes: https://pypi.org/simple, https://us-python.pkg.dev/colab-wheels/public/simple/\n",
            "Requirement already satisfied: pyngrok in /usr/local/lib/python3.9/dist-packages (5.2.1)\n",
            "Requirement already satisfied: PyYAML in /usr/local/lib/python3.9/dist-packages (from pyngrok) (6.0)\n",
            "Authtoken saved to configuration file: /root/.ngrok2/ngrok.yml\n"
          ]
        }
      ]
    },
    {
      "cell_type": "code",
      "source": [
        "from pyngrok import ngrok\n",
        "public_url = ngrok.connect(4050)\n",
        "public_url"
      ],
      "metadata": {
        "colab": {
          "base_uri": "https://localhost:8080/"
        },
        "id": "Avv4q6WF8lUV",
        "outputId": "0264b848-63fc-463e-dfbc-8170062ff789"
      },
      "execution_count": 21,
      "outputs": [
        {
          "output_type": "execute_result",
          "data": {
            "text/plain": [
              "<NgrokTunnel: \"http://ac02-34-105-38-169.ngrok.io\" -> \"http://localhost:4050\">"
            ]
          },
          "metadata": {},
          "execution_count": 21
        }
      ]
    },
    {
      "cell_type": "markdown",
      "source": [
        "# Paralelización de procesos"
      ],
      "metadata": {
        "id": "-bqDjH1ppth1"
      }
    },
    {
      "cell_type": "markdown",
      "metadata": {
        "id": "QeZ3vsFxpMmT"
      },
      "source": [
        "1. Plantear el problema a resolver. En este caso la aproximación de Pi por el método de Montecarlo [enlace](https://www.geogebra.org/m/cF7RwK3H)\n"
      ]
    },
    {
      "cell_type": "code",
      "execution_count": 22,
      "metadata": {
        "id": "1lcoGXBzkU5s"
      },
      "outputs": [],
      "source": [
        "import random\n",
        "num_samples = 1000000\n",
        "def inside(p):     \n",
        "  x, y = random.random(), random.random()\n",
        "  return x*x + y*y < 1\n",
        "\n"
      ]
    },
    {
      "cell_type": "markdown",
      "metadata": {
        "id": "eRxOanjhpCoJ"
      },
      "source": [
        "2. Paralelizar el cálculo con **parallelize**: Este método se utiliza para distribuir la colección de elementos del mismo tipo (datos u operaciones) para poder funcionar en paralelo. "
      ]
    },
    {
      "cell_type": "code",
      "execution_count": 23,
      "metadata": {
        "colab": {
          "base_uri": "https://localhost:8080/"
        },
        "id": "JzoJEvPtoUNB",
        "outputId": "07ad801d-49cf-4f58-864b-720022e7b588"
      },
      "outputs": [
        {
          "output_type": "execute_result",
          "data": {
            "text/plain": [
              "785228"
            ]
          },
          "metadata": {},
          "execution_count": 23
        }
      ],
      "source": [
        "count = sc.parallelize(range(0, num_samples)).filter(inside).count()\n",
        "count\n"
      ]
    },
    {
      "cell_type": "markdown",
      "metadata": {
        "id": "po4pk0sJprwq"
      },
      "source": [
        "3. Obtenemos el resultado final"
      ]
    },
    {
      "cell_type": "code",
      "execution_count": 24,
      "metadata": {
        "colab": {
          "base_uri": "https://localhost:8080/"
        },
        "id": "672qv1phpq8g",
        "outputId": "bcdc3b41-f369-4fa0-f46a-364e2b227f1e"
      },
      "outputs": [
        {
          "output_type": "stream",
          "name": "stdout",
          "text": [
            "3.140912\n"
          ]
        }
      ],
      "source": [
        "pi = 4 * count / num_samples\n",
        "print(pi)\n"
      ]
    },
    {
      "cell_type": "markdown",
      "source": [
        "Momento de revisar el enlace de la monitorización"
      ],
      "metadata": {
        "id": "NK9ybppeqLWZ"
      }
    },
    {
      "cell_type": "markdown",
      "source": [
        "# Manejo de Datos JSON"
      ],
      "metadata": {
        "id": "eYDUJwU4nrxy"
      }
    },
    {
      "cell_type": "markdown",
      "source": [
        "1. Descargamos y renombramos los datos json procedentes de OpenData"
      ],
      "metadata": {
        "id": "-veqYaeUsTR3"
      }
    },
    {
      "cell_type": "code",
      "source": [
        "%%bash\n",
        "wget https://ias1.larioja.org/opendata/download?r=Y2Q9ODYxfGNmPTA0\n",
        "mv /content/download?r=Y2Q9ODYxfGNmPTA0 /content/pruebas_localidades.json"
      ],
      "metadata": {
        "colab": {
          "base_uri": "https://localhost:8080/"
        },
        "id": "gdXQpSbz-RX4",
        "outputId": "d66d87a1-906b-4956-89f8-e138fe9606ff"
      },
      "execution_count": 29,
      "outputs": [
        {
          "output_type": "stream",
          "name": "stdout",
          "text": [
            "--2023-03-31 10:46:51--  http://ias1.larioja.org/opendata/download?r=Y2Q9ODYxfGNmPTA0\n",
            "Resolving ias1.larioja.org (ias1.larioja.org)... 195.55.164.30\n",
            "Connecting to ias1.larioja.org (ias1.larioja.org)|195.55.164.30|:80... failed: Connection timed out.\n",
            "Retrying.\n",
            "\n",
            "--2023-03-31 10:49:03--  (try: 2)  http://ias1.larioja.org/opendata/download?r=Y2Q9ODYxfGNmPTA0\n",
            "Connecting to ias1.larioja.org (ias1.larioja.org)|195.55.164.30|:80... ^C\n"
          ]
        }
      ]
    },
    {
      "cell_type": "markdown",
      "metadata": {
        "id": "PfqSLQlJyoLx"
      },
      "source": [
        "2. Spark para lectura de JSON"
      ]
    },
    {
      "cell_type": "code",
      "metadata": {
        "colab": {
          "base_uri": "https://localhost:8080/"
        },
        "id": "3KBigFfgE1Z5",
        "outputId": "12dc4bf5-f835-442f-827c-f2436e8a7bfa"
      },
      "source": [
        "df = spark.read.json(\"/content/pruebas_localidades.json\")\n",
        "df.printSchema()"
      ],
      "execution_count": null,
      "outputs": [
        {
          "output_type": "stream",
          "name": "stdout",
          "text": [
            "root\n",
            " |-- data: array (nullable = true)\n",
            " |    |-- element: struct (containsNull = true)\n",
            " |    |    |-- ACUMULADO NEGATIVO: long (nullable = true)\n",
            " |    |    |-- ACUMULADO POSITIVO: long (nullable = true)\n",
            " |    |    |-- Lat: double (nullable = true)\n",
            " |    |    |-- Lon: double (nullable = true)\n",
            " |    |    |-- NEGATIVOS: long (nullable = true)\n",
            " |    |    |-- NUEVOS CASOS ACUMULADO 14 DIAS: long (nullable = true)\n",
            " |    |    |-- NUEVOS CASOS ACUMULADO 7 DIAS: long (nullable = true)\n",
            " |    |    |-- PCR REALIZADOS: long (nullable = true)\n",
            " |    |    |-- POSITIVOS: long (nullable = true)\n",
            " |    |    |-- TASA IA 14: double (nullable = true)\n",
            " |    |    |-- TASA IA 7: double (nullable = true)\n",
            " |    |    |-- TOTAL ACUMULADO: long (nullable = true)\n",
            " |    |    |-- Title: string (nullable = true)\n",
            "\n"
          ]
        }
      ]
    },
    {
      "cell_type": "markdown",
      "source": [
        "3. Consultar datos: Select/Explode"
      ],
      "metadata": {
        "id": "ewcBZcKrsao0"
      }
    },
    {
      "cell_type": "code",
      "source": [
        "from pyspark.sql.functions import explode\n",
        "df2 = df.select(explode(\"data\")).select(col(\"col.*\"))\n",
        "df2.printSchema()\n",
        "df2.show()\n"
      ],
      "metadata": {
        "colab": {
          "base_uri": "https://localhost:8080/"
        },
        "id": "vduWGRafDMIw",
        "outputId": "f1d16268-c990-4dd8-c9da-5818af70bbac"
      },
      "execution_count": null,
      "outputs": [
        {
          "output_type": "stream",
          "name": "stdout",
          "text": [
            "root\n",
            " |-- ACUMULADO NEGATIVO: long (nullable = true)\n",
            " |-- ACUMULADO POSITIVO: long (nullable = true)\n",
            " |-- Lat: double (nullable = true)\n",
            " |-- Lon: double (nullable = true)\n",
            " |-- NEGATIVOS: long (nullable = true)\n",
            " |-- NUEVOS CASOS ACUMULADO 14 DIAS: long (nullable = true)\n",
            " |-- NUEVOS CASOS ACUMULADO 7 DIAS: long (nullable = true)\n",
            " |-- PCR REALIZADOS: long (nullable = true)\n",
            " |-- POSITIVOS: long (nullable = true)\n",
            " |-- TASA IA 14: double (nullable = true)\n",
            " |-- TASA IA 7: double (nullable = true)\n",
            " |-- TOTAL ACUMULADO: long (nullable = true)\n",
            " |-- Title: string (nullable = true)\n",
            "\n",
            "+------------------+------------------+----------+----------+---------+------------------------------+-----------------------------+--------------+---------+----------+---------+---------------+---------+\n",
            "|ACUMULADO NEGATIVO|ACUMULADO POSITIVO|       Lat|       Lon|NEGATIVOS|NUEVOS CASOS ACUMULADO 14 DIAS|NUEVOS CASOS ACUMULADO 7 DIAS|PCR REALIZADOS|POSITIVOS|TASA IA 14|TASA IA 7|TOTAL ACUMULADO|    Title|\n",
            "+------------------+------------------+----------+----------+---------+------------------------------+-----------------------------+--------------+---------+----------+---------+---------------+---------+\n",
            "|              null|              null|42.5727159|      null|     null|                          null|                         null|          null|     null|      null|     null|           null|     null|\n",
            "|              null|              null|      null|-2.7100606|     null|                          null|                         null|          null|     null|      null|     null|           null|     null|\n",
            "|              null|              null|      null|      null|     null|                          null|                         null|          null|     null|      null|     null|           null|   ABALOS|\n",
            "|              null|              null|      null|      null|     null|                          null|                         null|             0|     null|      null|     null|           null|     null|\n",
            "|              null|              null|      null|      null|     null|                          null|                         null|          null|     null|      null|     null|             96|     null|\n",
            "|              null|              null|      null|      null|     null|                          null|                         null|          null|        0|      null|     null|           null|     null|\n",
            "|              null|              null|      null|      null|        0|                          null|                         null|          null|     null|      null|     null|           null|     null|\n",
            "|              null|                14|      null|      null|     null|                          null|                         null|          null|     null|      null|     null|           null|     null|\n",
            "|                82|              null|      null|      null|     null|                          null|                         null|          null|     null|      null|     null|           null|     null|\n",
            "|              null|              null|      null|      null|     null|                             0|                         null|          null|     null|      null|     null|           null|     null|\n",
            "|              null|              null|      null|      null|     null|                          null|                            0|          null|     null|      null|     null|           null|     null|\n",
            "|              null|              null|      null|      null|     null|                          null|                         null|          null|     null|      -1.0|     null|           null|     null|\n",
            "|              null|              null|      null|      null|     null|                          null|                         null|          null|     null|      null|     -1.0|           null|     null|\n",
            "|              null|              null|42.4451704|      null|     null|                          null|                         null|          null|     null|      null|     null|           null|     null|\n",
            "|              null|              null|      null|-2.2913654|     null|                          null|                         null|          null|     null|      null|     null|           null|     null|\n",
            "|              null|              null|      null|      null|     null|                          null|                         null|          null|     null|      null|     null|           null|AGONCILLO|\n",
            "|              null|              null|      null|      null|     null|                          null|                         null|             1|     null|      null|     null|           null|     null|\n",
            "|              null|              null|      null|      null|     null|                          null|                         null|          null|     null|      null|     null|            357|     null|\n",
            "|              null|              null|      null|      null|     null|                          null|                         null|          null|        0|      null|     null|           null|     null|\n",
            "|              null|              null|      null|      null|        1|                          null|                         null|          null|     null|      null|     null|           null|     null|\n",
            "+------------------+------------------+----------+----------+---------+------------------------------+-----------------------------+--------------+---------+----------+---------+---------------+---------+\n",
            "only showing top 20 rows\n",
            "\n"
          ]
        }
      ]
    },
    {
      "cell_type": "markdown",
      "metadata": {
        "id": "B3dVIL8Syqta"
      },
      "source": [
        "4. Spark Hive para datos Json"
      ]
    },
    {
      "cell_type": "code",
      "metadata": {
        "colab": {
          "base_uri": "https://localhost:8080/"
        },
        "id": "NUHekGp-_siT",
        "outputId": "95292c5f-f62f-4837-ef6a-1c7f5ce4ad79"
      },
      "source": [
        "from pyspark.sql import HiveContext\n",
        "hiveCtx = spark.builder.enableHiveSupport().getOrCreate()\n",
        "ex1 = hiveCtx.read.json(df2.toJSON())\n",
        "ex1.registerTempTable(\"datos\")\n",
        "results = hiveCtx.sql(\"SELECT * FROM datos\").show()"
      ],
      "execution_count": null,
      "outputs": [
        {
          "output_type": "stream",
          "name": "stderr",
          "text": [
            "/usr/local/spark-3.2.1-bin-hadoop3.2/python/pyspark/sql/dataframe.py:140: FutureWarning: Deprecated in 2.0, use createOrReplaceTempView instead.\n",
            "  FutureWarning\n"
          ]
        },
        {
          "output_type": "stream",
          "name": "stdout",
          "text": [
            "+------------------+------------------+----------+----------+---------+------------------------------+-----------------------------+--------------+---------+----------+---------+---------------+---------+\n",
            "|ACUMULADO NEGATIVO|ACUMULADO POSITIVO|       Lat|       Lon|NEGATIVOS|NUEVOS CASOS ACUMULADO 14 DIAS|NUEVOS CASOS ACUMULADO 7 DIAS|PCR REALIZADOS|POSITIVOS|TASA IA 14|TASA IA 7|TOTAL ACUMULADO|    Title|\n",
            "+------------------+------------------+----------+----------+---------+------------------------------+-----------------------------+--------------+---------+----------+---------+---------------+---------+\n",
            "|              null|              null|42.5727159|      null|     null|                          null|                         null|          null|     null|      null|     null|           null|     null|\n",
            "|              null|              null|      null|-2.7100606|     null|                          null|                         null|          null|     null|      null|     null|           null|     null|\n",
            "|              null|              null|      null|      null|     null|                          null|                         null|          null|     null|      null|     null|           null|   ABALOS|\n",
            "|              null|              null|      null|      null|     null|                          null|                         null|             0|     null|      null|     null|           null|     null|\n",
            "|              null|              null|      null|      null|     null|                          null|                         null|          null|     null|      null|     null|             96|     null|\n",
            "|              null|              null|      null|      null|     null|                          null|                         null|          null|        0|      null|     null|           null|     null|\n",
            "|              null|              null|      null|      null|        0|                          null|                         null|          null|     null|      null|     null|           null|     null|\n",
            "|              null|                14|      null|      null|     null|                          null|                         null|          null|     null|      null|     null|           null|     null|\n",
            "|                82|              null|      null|      null|     null|                          null|                         null|          null|     null|      null|     null|           null|     null|\n",
            "|              null|              null|      null|      null|     null|                             0|                         null|          null|     null|      null|     null|           null|     null|\n",
            "|              null|              null|      null|      null|     null|                          null|                            0|          null|     null|      null|     null|           null|     null|\n",
            "|              null|              null|      null|      null|     null|                          null|                         null|          null|     null|      -1.0|     null|           null|     null|\n",
            "|              null|              null|      null|      null|     null|                          null|                         null|          null|     null|      null|     -1.0|           null|     null|\n",
            "|              null|              null|42.4451704|      null|     null|                          null|                         null|          null|     null|      null|     null|           null|     null|\n",
            "|              null|              null|      null|-2.2913654|     null|                          null|                         null|          null|     null|      null|     null|           null|     null|\n",
            "|              null|              null|      null|      null|     null|                          null|                         null|          null|     null|      null|     null|           null|AGONCILLO|\n",
            "|              null|              null|      null|      null|     null|                          null|                         null|             1|     null|      null|     null|           null|     null|\n",
            "|              null|              null|      null|      null|     null|                          null|                         null|          null|     null|      null|     null|            357|     null|\n",
            "|              null|              null|      null|      null|     null|                          null|                         null|          null|        0|      null|     null|           null|     null|\n",
            "|              null|              null|      null|      null|        1|                          null|                         null|          null|     null|      null|     null|           null|     null|\n",
            "+------------------+------------------+----------+----------+---------+------------------------------+-----------------------------+--------------+---------+----------+---------+---------------+---------+\n",
            "only showing top 20 rows\n",
            "\n"
          ]
        }
      ]
    },
    {
      "cell_type": "markdown",
      "source": [
        "# Ingesta de Datos"
      ],
      "metadata": {
        "id": "tderNCLTtwZg"
      }
    },
    {
      "cell_type": "markdown",
      "source": [
        "![image.png](data:image/png;base64,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)"
      ],
      "metadata": {
        "id": "huDSxybA_B1e"
      }
    },
    {
      "cell_type": "markdown",
      "source": [
        "1. Crear un DataFrame procedente de una base de datos relacional"
      ],
      "metadata": {
        "id": "QnAX_bGxuYFT"
      }
    },
    {
      "cell_type": "markdown",
      "source": [
        "La base de datos Rfam es una colección de familias de secuencias de ARN estructurales que incluyen genes de ARN no codificantes, así como elementos cis-reguladores. Cada familia está representada por un alineamiento múltiple de secuencias y un modelo de covarianza (MC).\n",
        "\n",
        "[Enlace](https://docs.rfam.org/en/latest/about-rfam.html)"
      ],
      "metadata": {
        "id": "uNfiR2dd-xHu"
      }
    },
    {
      "cell_type": "code",
      "source": [
        "df = (spark.read.format(\"jdbc\")\n",
        ".option(\"url\",\"jdbc:mysql://mysql-rfam-public.ebi.ac.uk:4497/Rfam\")\n",
        ".option(\"dbtable\",\"family\")\n",
        ".option(\"user\",\"rfamro\")\n",
        ".option(\"password\",\"\")\n",
        ".load())"
      ],
      "metadata": {
        "id": "sSu1pJm0tyY8"
      },
      "execution_count": null,
      "outputs": []
    },
    {
      "cell_type": "code",
      "source": [
        "df.show()"
      ],
      "metadata": {
        "colab": {
          "base_uri": "https://localhost:8080/"
        },
        "id": "jm_IvJCm9cu3",
        "outputId": "a97e8fe1-01bd-4447-f5ee-adcdd6842987"
      },
      "execution_count": null,
      "outputs": [
        {
          "output_type": "stream",
          "name": "stdout",
          "text": [
            "+--------+-------------+---------+--------------------+--------------------+--------------------+----------------+--------------+------------+--------------------+--------------------+------------------+--------------------+--------------------+--------+--------+--------------+----------+--------------------+--------------------+-----------------+--------------------+---------------+--------+------------+---------+------------+--------------+----+----+---------------+-------+----------+-------------------+-------------------+\n",
            "|rfam_acc|      rfam_id|auto_wiki|         description|              author|         seed_source|gathering_cutoff|trusted_cutoff|noise_cutoff|             comment|         previous_id|           cmbuild|         cmcalibrate|            cmsearch|num_seed|num_full|num_genome_seq|num_refseq|                type|    structure_source|number_of_species|number_3d_structures|num_pseudonokts|tax_seed|ecmli_lambda| ecmli_mu|ecmli_cal_db|ecmli_cal_hits|maxl|clen|match_pair_node|hmm_tau|hmm_lambda|            created|            updated|\n",
            "+--------+-------------+---------+--------------------+--------------------+--------------------+----------------+--------------+------------+--------------------+--------------------+------------------+--------------------+--------------------+--------+--------+--------------+----------+--------------------+--------------------+-----------------+--------------------+---------------+--------+------------+---------+------------+--------------+----+----+---------------+-------+----------+-------------------+-------------------+\n",
            "| RF00001|      5S_rRNA|     1302|    5S ribosomal RNA|Griffiths-Jones S...|Szymanski et al, ...|            38.0|          38.0|        37.9|5S ribosomal RNA ...|                null|cmbuild -F CM SEED|cmcalibrate --mpi CM|cmsearch --cpu 4 ...|     712|  139932|             0|         0|         Gene; rRNA;|Published; PMID:1...|             8022|                   0|           null|        |     0.59496| -5.32219|     1600000|        213632| 305| 119|           true|-3.7812|   0.71822|2013-10-03 20:41:44|2019-01-04 15:01:52|\n",
            "| RF00002|    5_8S_rRNA|     1303|  5.8S ribosomal RNA|Griffiths-Jones S...|Wuyts et al, Euro...|            42.0|          42.0|        41.9|5.8S ribosomal RN...|                null|cmbuild -F CM SEED|cmcalibrate --mpi CM|cmsearch --cpu 4 ...|      61|    4716|             0|         0|         Gene; rRNA;|Published; PMID:1...|              587|                   0|           null|        |     0.65546| -9.33442|     1600000|        410495| 277| 154|           true|-3.5135|   0.71791|2013-10-03 20:47:00|2019-01-04 15:01:52|\n",
            "| RF00003|           U1|     1304| U1 spliceosomal RNA|Griffiths-Jones S...|Zwieb C, The uRNA...|            67.8|          67.8|        67.7|U1 is a small nuc...|                null|cmbuild -F CM SEED|cmcalibrate --mpi CM|cmsearch --cpu 4 ...|     100|   11452|             0|         0|Gene; snRNA; spli...|Published; PMID:2...|              526|                   0|           null|        |     0.67253| -8.56427|     1600000|        409669| 267| 166|           true|-3.7747|   0.71617|2013-10-03 20:57:11|2021-07-05 14:43:57|\n",
            "| RF00004|           U2|     1305| U2 spliceosomal RNA|Griffiths-Jones S...|The uRNA database...|            46.0|          46.0|        45.9|U2 is a small nuc...|                null|cmbuild -F CM SEED|cmcalibrate --mpi CM|cmsearch --cpu 4 ...|     208|   16562|             0|         0|Gene; snRNA; spli...|Published; PMID:2...|             1102|                   0|           null|        |     0.55222| -9.81359|     1600000|        403693| 301| 193|           true|-3.5144|   0.71292|2013-10-03 20:58:30|2021-07-05 14:43:57|\n",
            "| RF00005|         tRNA|     1306|                tRNA|Eddy SR, Griffith...|             Eddy SR|            29.0|          29.0|        28.9|Transfer RNA (tRN...|                null|cmbuild -F CM SEED|cmcalibrate --mpi CM|cmsearch --cpu 4 ...|     954| 1429129|             0|         0|         Gene; tRNA;|Published; PMID:8...|             9951|                   0|           null|        |     0.64375| -4.21424|     1600000|        283681| 253|  71|           true|-2.6167|   0.73401|2013-10-03 21:00:26|2021-07-05 14:43:57|\n",
            "| RF00006|        Vault|     1307|           Vault RNA|Bateman A, Gardne...|Published; PMID:1...|            34.0|          34.1|        33.9|This family of RN...|                null|cmbuild -F CM SEED|cmcalibrate --mpi CM|cmsearch --cpu 4 ...|      73|     564|             0|         0|               Gene;|Published; PMID:1...|               94|                   0|           null|        |     0.63669|  -4.8243|     1600000|        279629| 406| 101|           true|-3.5531|   0.71855|2013-10-03 22:04:04|2019-01-04 15:01:52|\n",
            "| RF00007|          U12|     1308|U12 minor spliceo...|Griffiths-Jones S...|Shukla GC and Pad...|            53.0|          53.0|        52.9|The U12 small nuc...|                null|cmbuild -F CM SEED|cmcalibrate --mpi CM|cmsearch --cpu 4 ...|      62|     531|             0|         0|Gene; snRNA; spli...|Predicted; Griffi...|              336|                   0|           null|        |     0.55844| -9.95163|     1600000|        493455| 520| 155|           true|-3.1678|   0.71782|2013-10-03 22:04:07|2021-07-05 14:43:57|\n",
            "| RF00008| Hammerhead_3|     1309|Hammerhead ribozy...|           Bateman A|           Bateman A|            32.9|          32.9|        32.8|The hammerhead ri...|          Hammerhead|cmbuild -F CM SEED|cmcalibrate --mpi CM|cmsearch --cpu 4 ...|      86|    1504|             0|         0|     Gene; ribozyme;|Published; PMID:7...|              116|                   0|           null|        |     0.61508| -4.35009|     1600000|        264501| 375|  58|           true| -4.203|   0.71914|2013-10-03 22:04:11|2021-07-05 14:43:57|\n",
            "| RF00009|   RNaseP_nuc|     1310|     Nuclear RNase P|Griffiths-Jones S...|Brown JW, The Rib...|            28.0|          28.0|        27.9|Ribonuclease P (R...|                null|cmbuild -F CM SEED|cmcalibrate --mpi CM|cmsearch --cpu 4 ...|     116|    1237|             0|         0|     Gene; ribozyme;|Published; PMID:9...|              763|                   0|           null|        |      0.7641| -8.04053|     1600000|        274636|1082| 303|           true|-4.3673|   0.70576|2013-10-03 22:04:14|2021-07-05 14:43:57|\n",
            "| RF00010|RNaseP_bact_a|     2441|Bacterial RNase P...|Griffiths-Jones S...|Brown JW, The Rib...|           100.0|         100.5|        99.6|Ribonuclease P (R...|                null|cmbuild -F CM SEED|cmcalibrate --mpi CM|cmsearch --cpu 4 ...|     458|    6023|             0|         0|     Gene; ribozyme;|Published; PMID:9...|             6324|                   0|           null|        |     0.76804| -8.48988|     1600000|        366265| 873| 367|           true|-4.3726|   0.70355|2013-10-03 22:04:21|2021-07-05 14:43:57|\n",
            "| RF00011|RNaseP_bact_b|     2441|Bacterial RNase P...|Griffiths-Jones S...|Brown JW, The Rib...|            97.0|          97.1|        96.6|Ribonuclease P (R...|                null|cmbuild -F CM SEED|cmcalibrate --mpi CM|cmsearch --cpu 4 ...|     114|     676|             0|         0|     Gene; ribozyme;|Published; PMID:9...|              767|                   0|           null|        |     0.69906|  -8.4903|     1600000|        418092| 675| 366|           true|-4.0357|   0.70361|2013-10-03 22:04:51|2021-07-05 14:43:57|\n",
            "| RF00012|           U3|     1312|Small nucleolar R...|  Gardner PP, Marz M|Published; PMID:1...|            34.0|          34.0|        33.9|Small nucleolar R...|                null|cmbuild -F CM SEED|cmcalibrate --mpi CM|cmsearch --cpu 4 ...|      87|    3924|             0|         0|Gene; snRNA; snoR...|Published; PMID:1...|              416|                   0|           null|        |     0.59795| -9.77278|     1600000|        400072| 326| 218|           true|-3.8301|   0.71077|2013-10-03 22:04:54|2019-01-04 15:01:52|\n",
            "| RF00013|           6S|     2461|       6S / SsrS RNA|Bateman A, Barric...|          Barrick JE|            44.2|          44.2|        44.1|E. coli 6S RNA wa...|                null|cmbuild -F CM SEED|cmcalibrate --mpi CM|cmsearch --cpu 4 ...|     150|    3636|             0|         0|               Gene;|Published; PMID:1...|             3414|                   0|           null|        |     0.54245|-10.21771|     1600000|        317741| 287| 187|           true|-3.6268|   0.71364|2013-10-03 22:05:06|2021-07-05 14:43:57|\n",
            "| RF00014|         DsrA|     1237|            DsrA RNA|           Bateman A|           Bateman A|            60.0|          61.5|        57.6|DsrA RNA regulate...|                null|cmbuild -F CM SEED|cmcalibrate --mpi CM|cmsearch --cpu 4 ...|       5|      35|             0|         0|         Gene; sRNA;|Published; PMID:9...|               39|                   0|           null|        |     0.53383| -8.38474|     1600000|        350673| 177|  85|           true|-3.3562|   0.71888|2013-02-01 11:56:19|2019-01-04 15:01:52|\n",
            "| RF00015|           U4|     1314| U4 spliceosomal RNA|  Griffiths-Jones SR|Zwieb C, The uRNA...|            46.0|          46.0|        45.9|U4 small nuclear ...|                null|cmbuild -F CM SEED|cmcalibrate --mpi CM|cmsearch --cpu 4 ...|     176|    7812|             0|         0|Gene; snRNA; spli...|Published; PMID:2...|             1033|                   0|           null|        |     0.59583| -8.71387|     1600000|        283644| 530| 139|           true|-3.5999|   0.71794|2013-10-03 22:05:22|2021-07-05 14:43:57|\n",
            "| RF00016|      SNORD14|     1242|Small nucleolar R...|Griffiths-Jones S...|  Griffiths-Jones SR|            64.0|          64.1|        63.9|U14 small nucleol...|                 U14|cmbuild -F CM SEED|cmcalibrate --mpi CM|cmsearch --cpu 4 ...|      18|    1182|             0|         0|Gene; snRNA; snoR...|    Predicted; PFOLD|              221|                   0|           null|        |     0.63073| -3.65386|     1600000|        232910| 229| 116|           true| -3.128|   0.71819|2013-02-01 11:56:23|2019-01-04 15:01:52|\n",
            "| RF00017|  Metazoa_SRP|     1315|Metazoan signal r...|          Gardner PP|Published; PMID:1...|            70.0|          70.0|        69.9|The signal recogn...|SRP_euk_arch; 7SL...|cmbuild -F CM SEED|cmcalibrate --mpi CM|cmsearch --cpu 4 ...|      91|   42386|             0|         0|               Gene;|Published; PMID:1...|              402|                   0|           null|        |     0.64536| -9.85267|     1600000|        488632| 514| 301|           true|-4.0177|   0.70604|2013-10-03 22:07:53|2021-07-05 14:43:57|\n",
            "| RF00018|         CsrB|     2460|CsrB/RsmB RNA family|Bateman A, Gardne...|           Bateman A|            71.0|          71.4|        70.9|The CsrB RNA bind...|                null|cmbuild -F CM SEED|cmcalibrate --mpi CM|cmsearch --cpu 4 ...|      38|     254|             0|         0|         Gene; sRNA;|Predicted; PFOLD;...|              196|                   0|           null|        |     0.69326| -9.81172|     1600000|        546392| 555| 356|           true|-4.0652|   0.70388|2013-10-03 23:07:27|2021-07-05 14:43:57|\n",
            "| RF00019|        Y_RNA|     1317|               Y RNA|Griffiths-Jones S...|Griffiths-Jones S...|            38.0|          38.0|        37.9|Y RNAs are compon...|      Y1; Y2; Y3; Y5|cmbuild -F CM SEED|cmcalibrate --mpi CM|cmsearch --cpu 4 ...|     104|    8521|             0|         0|               Gene;|Published; PMID:1...|              123|                   0|           null|        |     0.59183| -5.14312|     1600000|        189478| 249|  98|           true|-2.8418|    0.7187|2013-10-03 23:07:38|2019-01-04 15:01:52|\n",
            "| RF00020|           U5|     1318| U5 spliceosomal RNA|Griffiths-Jones S...|Zwieb C, The uRNA...|            40.0|          40.0|        39.9|U5 RNA is a compo...|                null|cmbuild -F CM SEED|cmcalibrate --mpi CM|cmsearch --cpu 4 ...|     180|    7524|             0|         0|Gene; snRNA; spli...|Published; PMID:2...|             1001|                   0|           null|        |     0.50732| -5.54774|     1600000|        339349| 331| 116|           true|-4.1327|    0.7182|2013-10-03 23:08:43|2019-01-04 15:01:52|\n",
            "+--------+-------------+---------+--------------------+--------------------+--------------------+----------------+--------------+------------+--------------------+--------------------+------------------+--------------------+--------------------+--------+--------+--------------+----------+--------------------+--------------------+-----------------+--------------------+---------------+--------+------------+---------+------------+--------------+----+----+---------------+-------+----------+-------------------+-------------------+\n",
            "only showing top 20 rows\n",
            "\n"
          ]
        }
      ]
    },
    {
      "cell_type": "markdown",
      "source": [
        "Spark también permite definir la división o partición para que los datos se extraigan en paralelo de diferentes tareas generadas por los ejecutores de Spark. \n",
        "* PartitionColumn es un equivalente de la opción split-by en Sqoop. \n",
        "\n",
        "* NumPartitions también define el número máximo de conexiones JDBC \"concurrentes\" realizadas a las bases de datos. La conexión JDBC concurrente real podría ser inferior a este número en función del número de ejecutores de Spark disponibles para el trabajo.\n",
        "\n",
        "* LowerBound y UpperBound definen el rango mínimo y máximo de la clave primaria, que utiliza junto con numPartitions para permitir a Spark paralelizar la extracción de datos dividiendo el rango en múltiples tareas. \n",
        "\n"
      ],
      "metadata": {
        "id": "Yl2aM2kT_VWw"
      }
    },
    {
      "cell_type": "code",
      "source": [
        "df2 = (spark.read.format(\"jdbc\")\n",
        ".option(\"url\",\"jdbc:mysql://mysql-rfam-public.ebi.ac.uk:4497/Rfam\")\n",
        ".option(\"dbtable\",\"family\")\n",
        ".option(\"user\",\"rfamro\")\n",
        ".option(\"password\",\"\")\n",
        ".option(\"lowerBound\", 0)\n",
        ".option(\"upperBound\",10000)\n",
        ".option(\"numPartitions\", 4)\n",
        ".option(\"partitionColumn\", \"auto_wiki\")\n",
        ".load())\n"
      ],
      "metadata": {
        "id": "-kIY6ngr_jFp"
      },
      "execution_count": null,
      "outputs": []
    },
    {
      "cell_type": "code",
      "source": [
        "df2.show()"
      ],
      "metadata": {
        "colab": {
          "base_uri": "https://localhost:8080/"
        },
        "id": "hpL9dxN6AURA",
        "outputId": "072826e1-fba8-42eb-ab68-38a61f8c2dbf"
      },
      "execution_count": null,
      "outputs": [
        {
          "output_type": "stream",
          "name": "stdout",
          "text": [
            "+--------+-------------+---------+--------------------+--------------------+--------------------+----------------+--------------+------------+--------------------+--------------------+------------------+--------------------+--------------------+--------+--------+--------------+----------+--------------------+--------------------+-----------------+--------------------+---------------+--------+------------+---------+------------+--------------+----+----+---------------+-------+----------+-------------------+-------------------+\n",
            "|rfam_acc|      rfam_id|auto_wiki|         description|              author|         seed_source|gathering_cutoff|trusted_cutoff|noise_cutoff|             comment|         previous_id|           cmbuild|         cmcalibrate|            cmsearch|num_seed|num_full|num_genome_seq|num_refseq|                type|    structure_source|number_of_species|number_3d_structures|num_pseudonokts|tax_seed|ecmli_lambda| ecmli_mu|ecmli_cal_db|ecmli_cal_hits|maxl|clen|match_pair_node|hmm_tau|hmm_lambda|            created|            updated|\n",
            "+--------+-------------+---------+--------------------+--------------------+--------------------+----------------+--------------+------------+--------------------+--------------------+------------------+--------------------+--------------------+--------+--------+--------------+----------+--------------------+--------------------+-----------------+--------------------+---------------+--------+------------+---------+------------+--------------+----+----+---------------+-------+----------+-------------------+-------------------+\n",
            "| RF00001|      5S_rRNA|     1302|    5S ribosomal RNA|Griffiths-Jones S...|Szymanski et al, ...|            38.0|          38.0|        37.9|5S ribosomal RNA ...|                null|cmbuild -F CM SEED|cmcalibrate --mpi CM|cmsearch --cpu 4 ...|     712|  139932|             0|         0|         Gene; rRNA;|Published; PMID:1...|             8022|                   0|           null|        |     0.59496| -5.32219|     1600000|        213632| 305| 119|           true|-3.7812|   0.71822|2013-10-03 20:41:44|2019-01-04 15:01:52|\n",
            "| RF00002|    5_8S_rRNA|     1303|  5.8S ribosomal RNA|Griffiths-Jones S...|Wuyts et al, Euro...|            42.0|          42.0|        41.9|5.8S ribosomal RN...|                null|cmbuild -F CM SEED|cmcalibrate --mpi CM|cmsearch --cpu 4 ...|      61|    4716|             0|         0|         Gene; rRNA;|Published; PMID:1...|              587|                   0|           null|        |     0.65546| -9.33442|     1600000|        410495| 277| 154|           true|-3.5135|   0.71791|2013-10-03 20:47:00|2019-01-04 15:01:52|\n",
            "| RF00003|           U1|     1304| U1 spliceosomal RNA|Griffiths-Jones S...|Zwieb C, The uRNA...|            67.8|          67.8|        67.7|U1 is a small nuc...|                null|cmbuild -F CM SEED|cmcalibrate --mpi CM|cmsearch --cpu 4 ...|     100|   11452|             0|         0|Gene; snRNA; spli...|Published; PMID:2...|              526|                   0|           null|        |     0.67253| -8.56427|     1600000|        409669| 267| 166|           true|-3.7747|   0.71617|2013-10-03 20:57:11|2021-07-05 14:43:57|\n",
            "| RF00004|           U2|     1305| U2 spliceosomal RNA|Griffiths-Jones S...|The uRNA database...|            46.0|          46.0|        45.9|U2 is a small nuc...|                null|cmbuild -F CM SEED|cmcalibrate --mpi CM|cmsearch --cpu 4 ...|     208|   16562|             0|         0|Gene; snRNA; spli...|Published; PMID:2...|             1102|                   0|           null|        |     0.55222| -9.81359|     1600000|        403693| 301| 193|           true|-3.5144|   0.71292|2013-10-03 20:58:30|2021-07-05 14:43:57|\n",
            "| RF00005|         tRNA|     1306|                tRNA|Eddy SR, Griffith...|             Eddy SR|            29.0|          29.0|        28.9|Transfer RNA (tRN...|                null|cmbuild -F CM SEED|cmcalibrate --mpi CM|cmsearch --cpu 4 ...|     954| 1429129|             0|         0|         Gene; tRNA;|Published; PMID:8...|             9951|                   0|           null|        |     0.64375| -4.21424|     1600000|        283681| 253|  71|           true|-2.6167|   0.73401|2013-10-03 21:00:26|2021-07-05 14:43:57|\n",
            "| RF00006|        Vault|     1307|           Vault RNA|Bateman A, Gardne...|Published; PMID:1...|            34.0|          34.1|        33.9|This family of RN...|                null|cmbuild -F CM SEED|cmcalibrate --mpi CM|cmsearch --cpu 4 ...|      73|     564|             0|         0|               Gene;|Published; PMID:1...|               94|                   0|           null|        |     0.63669|  -4.8243|     1600000|        279629| 406| 101|           true|-3.5531|   0.71855|2013-10-03 22:04:04|2019-01-04 15:01:52|\n",
            "| RF00007|          U12|     1308|U12 minor spliceo...|Griffiths-Jones S...|Shukla GC and Pad...|            53.0|          53.0|        52.9|The U12 small nuc...|                null|cmbuild -F CM SEED|cmcalibrate --mpi CM|cmsearch --cpu 4 ...|      62|     531|             0|         0|Gene; snRNA; spli...|Predicted; Griffi...|              336|                   0|           null|        |     0.55844| -9.95163|     1600000|        493455| 520| 155|           true|-3.1678|   0.71782|2013-10-03 22:04:07|2021-07-05 14:43:57|\n",
            "| RF00008| Hammerhead_3|     1309|Hammerhead ribozy...|           Bateman A|           Bateman A|            32.9|          32.9|        32.8|The hammerhead ri...|          Hammerhead|cmbuild -F CM SEED|cmcalibrate --mpi CM|cmsearch --cpu 4 ...|      86|    1504|             0|         0|     Gene; ribozyme;|Published; PMID:7...|              116|                   0|           null|        |     0.61508| -4.35009|     1600000|        264501| 375|  58|           true| -4.203|   0.71914|2013-10-03 22:04:11|2021-07-05 14:43:57|\n",
            "| RF00009|   RNaseP_nuc|     1310|     Nuclear RNase P|Griffiths-Jones S...|Brown JW, The Rib...|            28.0|          28.0|        27.9|Ribonuclease P (R...|                null|cmbuild -F CM SEED|cmcalibrate --mpi CM|cmsearch --cpu 4 ...|     116|    1237|             0|         0|     Gene; ribozyme;|Published; PMID:9...|              763|                   0|           null|        |      0.7641| -8.04053|     1600000|        274636|1082| 303|           true|-4.3673|   0.70576|2013-10-03 22:04:14|2021-07-05 14:43:57|\n",
            "| RF00010|RNaseP_bact_a|     2441|Bacterial RNase P...|Griffiths-Jones S...|Brown JW, The Rib...|           100.0|         100.5|        99.6|Ribonuclease P (R...|                null|cmbuild -F CM SEED|cmcalibrate --mpi CM|cmsearch --cpu 4 ...|     458|    6023|             0|         0|     Gene; ribozyme;|Published; PMID:9...|             6324|                   0|           null|        |     0.76804| -8.48988|     1600000|        366265| 873| 367|           true|-4.3726|   0.70355|2013-10-03 22:04:21|2021-07-05 14:43:57|\n",
            "| RF00011|RNaseP_bact_b|     2441|Bacterial RNase P...|Griffiths-Jones S...|Brown JW, The Rib...|            97.0|          97.1|        96.6|Ribonuclease P (R...|                null|cmbuild -F CM SEED|cmcalibrate --mpi CM|cmsearch --cpu 4 ...|     114|     676|             0|         0|     Gene; ribozyme;|Published; PMID:9...|              767|                   0|           null|        |     0.69906|  -8.4903|     1600000|        418092| 675| 366|           true|-4.0357|   0.70361|2013-10-03 22:04:51|2021-07-05 14:43:57|\n",
            "| RF00012|           U3|     1312|Small nucleolar R...|  Gardner PP, Marz M|Published; PMID:1...|            34.0|          34.0|        33.9|Small nucleolar R...|                null|cmbuild -F CM SEED|cmcalibrate --mpi CM|cmsearch --cpu 4 ...|      87|    3924|             0|         0|Gene; snRNA; snoR...|Published; PMID:1...|              416|                   0|           null|        |     0.59795| -9.77278|     1600000|        400072| 326| 218|           true|-3.8301|   0.71077|2013-10-03 22:04:54|2019-01-04 15:01:52|\n",
            "| RF00013|           6S|     2461|       6S / SsrS RNA|Bateman A, Barric...|          Barrick JE|            44.2|          44.2|        44.1|E. coli 6S RNA wa...|                null|cmbuild -F CM SEED|cmcalibrate --mpi CM|cmsearch --cpu 4 ...|     150|    3636|             0|         0|               Gene;|Published; PMID:1...|             3414|                   0|           null|        |     0.54245|-10.21771|     1600000|        317741| 287| 187|           true|-3.6268|   0.71364|2013-10-03 22:05:06|2021-07-05 14:43:57|\n",
            "| RF00014|         DsrA|     1237|            DsrA RNA|           Bateman A|           Bateman A|            60.0|          61.5|        57.6|DsrA RNA regulate...|                null|cmbuild -F CM SEED|cmcalibrate --mpi CM|cmsearch --cpu 4 ...|       5|      35|             0|         0|         Gene; sRNA;|Published; PMID:9...|               39|                   0|           null|        |     0.53383| -8.38474|     1600000|        350673| 177|  85|           true|-3.3562|   0.71888|2013-02-01 11:56:19|2019-01-04 15:01:52|\n",
            "| RF00015|           U4|     1314| U4 spliceosomal RNA|  Griffiths-Jones SR|Zwieb C, The uRNA...|            46.0|          46.0|        45.9|U4 small nuclear ...|                null|cmbuild -F CM SEED|cmcalibrate --mpi CM|cmsearch --cpu 4 ...|     176|    7812|             0|         0|Gene; snRNA; spli...|Published; PMID:2...|             1033|                   0|           null|        |     0.59583| -8.71387|     1600000|        283644| 530| 139|           true|-3.5999|   0.71794|2013-10-03 22:05:22|2021-07-05 14:43:57|\n",
            "| RF00016|      SNORD14|     1242|Small nucleolar R...|Griffiths-Jones S...|  Griffiths-Jones SR|            64.0|          64.1|        63.9|U14 small nucleol...|                 U14|cmbuild -F CM SEED|cmcalibrate --mpi CM|cmsearch --cpu 4 ...|      18|    1182|             0|         0|Gene; snRNA; snoR...|    Predicted; PFOLD|              221|                   0|           null|        |     0.63073| -3.65386|     1600000|        232910| 229| 116|           true| -3.128|   0.71819|2013-02-01 11:56:23|2019-01-04 15:01:52|\n",
            "| RF00017|  Metazoa_SRP|     1315|Metazoan signal r...|          Gardner PP|Published; PMID:1...|            70.0|          70.0|        69.9|The signal recogn...|SRP_euk_arch; 7SL...|cmbuild -F CM SEED|cmcalibrate --mpi CM|cmsearch --cpu 4 ...|      91|   42386|             0|         0|               Gene;|Published; PMID:1...|              402|                   0|           null|        |     0.64536| -9.85267|     1600000|        488632| 514| 301|           true|-4.0177|   0.70604|2013-10-03 22:07:53|2021-07-05 14:43:57|\n",
            "| RF00018|         CsrB|     2460|CsrB/RsmB RNA family|Bateman A, Gardne...|           Bateman A|            71.0|          71.4|        70.9|The CsrB RNA bind...|                null|cmbuild -F CM SEED|cmcalibrate --mpi CM|cmsearch --cpu 4 ...|      38|     254|             0|         0|         Gene; sRNA;|Predicted; PFOLD;...|              196|                   0|           null|        |     0.69326| -9.81172|     1600000|        546392| 555| 356|           true|-4.0652|   0.70388|2013-10-03 23:07:27|2021-07-05 14:43:57|\n",
            "| RF00019|        Y_RNA|     1317|               Y RNA|Griffiths-Jones S...|Griffiths-Jones S...|            38.0|          38.0|        37.9|Y RNAs are compon...|      Y1; Y2; Y3; Y5|cmbuild -F CM SEED|cmcalibrate --mpi CM|cmsearch --cpu 4 ...|     104|    8521|             0|         0|               Gene;|Published; PMID:1...|              123|                   0|           null|        |     0.59183| -5.14312|     1600000|        189478| 249|  98|           true|-2.8418|    0.7187|2013-10-03 23:07:38|2019-01-04 15:01:52|\n",
            "| RF00020|           U5|     1318| U5 spliceosomal RNA|Griffiths-Jones S...|Zwieb C, The uRNA...|            40.0|          40.0|        39.9|U5 RNA is a compo...|                null|cmbuild -F CM SEED|cmcalibrate --mpi CM|cmsearch --cpu 4 ...|     180|    7524|             0|         0|Gene; snRNA; spli...|Published; PMID:2...|             1001|                   0|           null|        |     0.50732| -5.54774|     1600000|        339349| 331| 116|           true|-4.1327|    0.7182|2013-10-03 23:08:43|2019-01-04 15:01:52|\n",
            "+--------+-------------+---------+--------------------+--------------------+--------------------+----------------+--------------+------------+--------------------+--------------------+------------------+--------------------+--------------------+--------+--------+--------------+----------+--------------------+--------------------+-----------------+--------------------+---------------+--------+------------+---------+------------+--------------+----+----+---------------+-------+----------+-------------------+-------------------+\n",
            "only showing top 20 rows\n",
            "\n"
          ]
        }
      ]
    },
    {
      "cell_type": "code",
      "source": [
        "db_name = \"rfam\"\n",
        "spark.sql(f\"CREATE DATABASE IF NOT EXISTS {db_name}\")\n",
        "df2.write.saveAsTable(\"rfam.family\")"
      ],
      "metadata": {
        "id": "nT6gMX6nAXtt"
      },
      "execution_count": null,
      "outputs": []
    },
    {
      "cell_type": "code",
      "source": [
        "df2.write.csv(\"prueba.csv\")"
      ],
      "metadata": {
        "id": "xZXAclVQCUNP"
      },
      "execution_count": null,
      "outputs": []
    },
    {
      "cell_type": "code",
      "source": [
        "!ls prueba.csv "
      ],
      "metadata": {
        "colab": {
          "base_uri": "https://localhost:8080/"
        },
        "id": "2c8tiztACm6F",
        "outputId": "ffe4a774-b896-44e6-a30a-7da458fe3724"
      },
      "execution_count": null,
      "outputs": [
        {
          "output_type": "stream",
          "name": "stdout",
          "text": [
            "part-00000-a8656317-c60b-449a-b9a5-98e6131fe85c-c000.csv  _SUCCESS\n",
            "part-00001-a8656317-c60b-449a-b9a5-98e6131fe85c-c000.csv\n"
          ]
        }
      ]
    }
  ]
}